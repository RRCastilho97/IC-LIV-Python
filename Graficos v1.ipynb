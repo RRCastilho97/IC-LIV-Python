{
 "cells": [
  {
   "cell_type": "code",
   "execution_count": 1,
   "metadata": {},
   "outputs": [],
   "source": [
    "%matplotlib inline\n",
    "import matplotlib.pyplot as plt\n",
    "import math\n",
    "from matplotlib.ticker import FormatStrFormatter #x-unit-of-measurement \n",
    "import matplotlib.ticker as mticker #y-unit-of-measurement \n",
    "import numpy as np"
   ]
  },
  {
   "cell_type": "code",
   "execution_count": null,
   "metadata": {},
   "outputs": [],
   "source": [
    "#fazendo para n=2"
   ]
  },
  {
   "cell_type": "code",
   "execution_count": 3,
   "metadata": {},
   "outputs": [
    {
     "name": "stdout",
     "output_type": "stream",
     "text": [
      "(1.6904037470353355, 1.8767251608712683e-14)\n"
     ]
    }
   ],
   "source": [
    "from scipy.integrate import quad\n",
    "import numpy as np\n",
    "def f(x):\n",
    "    return ((1 + x)**2)/np.sqrt(0.7 + 0.3 * (1 + x)**3)\n",
    "i = quad(f,0,1)\n",
    "print(i)"
   ]
  },
  {
   "cell_type": "code",
   "execution_count": null,
   "metadata": {},
   "outputs": [],
   "source": [
    "#Constante de Hubble\n",
    "H = 71\n"
   ]
  },
  {
   "cell_type": "code",
   "execution_count": null,
   "metadata": {},
   "outputs": [],
   "source": [
    "#Energia Maxima\n",
    "E= float(input())\n"
   ]
  },
  {
   "cell_type": "code",
   "execution_count": 4,
   "metadata": {},
   "outputs": [
    {
     "name": "stdout",
     "output_type": "stream",
     "text": [
      "1231\n"
     ]
    }
   ],
   "source": [
    "#Energia QG\n",
    "G= float(input())"
   ]
  },
  {
   "cell_type": "code",
   "execution_count": null,
   "metadata": {},
   "outputs": [],
   "source": [
    "#Intervalo de tempo\n",
    "t = float(input())"
   ]
  },
  {
   "cell_type": "code",
   "execution_count": null,
   "metadata": {},
   "outputs": [],
   "source": [
    "#Nos graficos que seguem, Segunda e Quarta possibilidades são inverso uma da outra, idem para Quinta e Sexta, Primeira e Terceira"
   ]
  },
  {
   "cell_type": "code",
   "execution_count": 6,
   "metadata": {},
   "outputs": [
    {
     "ename": "SyntaxError",
     "evalue": "invalid syntax (<ipython-input-6-dc2f9ac3d0ca>, line 2)",
     "output_type": "error",
     "traceback": [
      "\u001b[1;36m  File \u001b[1;32m\"<ipython-input-6-dc2f9ac3d0ca>\"\u001b[1;36m, line \u001b[1;32m2\u001b[0m\n\u001b[1;33m    E =  np.arange( , , )\u001b[0m\n\u001b[1;37m                    ^\u001b[0m\n\u001b[1;31mSyntaxError\u001b[0m\u001b[1;31m:\u001b[0m invalid syntax\n"
     ]
    }
   ],
   "source": [
    "#Primeira Possibilidade G é dado, E varia, calculamos t\n",
    "\n",
    "E =  np.arange( , , ) \n",
    "\n",
    "A= (3/2*H)*((E/G)**2)*i\n",
    "\n",
    "plt.plot(E, A)\n",
    "\n",
    "plt.ylabel('Diferença no tempo', size=20)\n",
    "plt.xlabel('Energia')\n",
    "\n",
    "plt.show()"
   ]
  },
  {
   "cell_type": "code",
   "execution_count": null,
   "metadata": {},
   "outputs": [],
   "source": [
    "#Segunda Possibilidade t é dado, E varia, calculamos G\n",
    "\n",
    "E =  np.arange( , , ) \n",
    "\n",
    "B = ((i*3*E**2)/(t*2*H))**0.5\n",
    "\n",
    "plt.plot(E, B)\n",
    "\n",
    "plt.ylabel('Energia QG', size=20)\n",
    "plt.xlabel('Energia')\n",
    "\n",
    "plt.show()"
   ]
  },
  {
   "cell_type": "code",
   "execution_count": null,
   "metadata": {},
   "outputs": [],
   "source": [
    "#Terceira Possibilidade G é dado, t varia, calculamos E\n",
    "\n",
    "t =  np.arange( , , ) \n",
    "\n",
    "C = ((i*3*E**2)/(t*2*H))**0.5\n",
    "\n",
    "plt.plot(t, C)\n",
    "\n",
    "plt.ylabel('Energia QG', size=20)\n",
    "plt.xlabel('Diferença no tempo')\n",
    "\n",
    "plt.show()\n"
   ]
  },
  {
   "cell_type": "code",
   "execution_count": null,
   "metadata": {},
   "outputs": [],
   "source": [
    "#Quarta Possibilidade t é dado, G varia, calculamos E\n",
    "\n",
    "G =  np.arange( , , ) \n",
    "\n",
    "D = ((i*3*E**2)/(t*2*H))**0.5\n",
    "\n",
    "plt.plot(G, D)\n",
    "plt.ylabel('Energia', size=20)\n",
    "plt.xlabel('Energia QG')\n",
    "\n",
    "plt.show()\n"
   ]
  },
  {
   "cell_type": "code",
   "execution_count": null,
   "metadata": {},
   "outputs": [],
   "source": [
    "#Quinta Possibilidade E é dado, t varia, calculamos G\n",
    "\n",
    "t =  np.arange( , , ) \n",
    "\n",
    "F = ((i*3*E**2)/(t*2*H))**0.5\n",
    "\n",
    "plt.plot(t, F)\n",
    "\n",
    "plt.ylabel('Energia QG', size=20)\n",
    "plt.xlabel('Diferença no tempo')\n",
    "\n",
    "plt.show()"
   ]
  },
  {
   "cell_type": "code",
   "execution_count": 7,
   "metadata": {},
   "outputs": [],
   "source": [
    "#Sexta Possibilidade E é dado, G varia, calculamos t\n",
    "\n",
    "G =  np.arange( , , ) \n",
    "\n",
    "N = (3/2*H)*((E/G)**2)*i\n",
    "\n",
    "plt.plot(G, N)\n",
    "\n",
    "plt.ylabel('Diferença no tempo', size=20)\n",
    "plt.xlabel('Energia QG ')\n",
    "\n",
    "plt.show()"
   ]
  },
  {
   "cell_type": "code",
   "execution_count": null,
   "metadata": {},
   "outputs": [],
   "source": []
  }
 ],
 "metadata": {
  "kernelspec": {
   "display_name": "Python 2",
   "language": "python",
   "name": "python2"
  },
  "language_info": {
   "codemirror_mode": {
    "name": "ipython",
    "version": 2
   },
   "file_extension": ".py",
   "mimetype": "text/x-python",
   "name": "python",
   "nbconvert_exporter": "python",
   "pygments_lexer": "ipython2",
   "version": "2.7.15"
  }
 },
 "nbformat": 4,
 "nbformat_minor": 2
}
